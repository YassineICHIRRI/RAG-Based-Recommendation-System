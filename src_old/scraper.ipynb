{
 "cells": [
  {
   "cell_type": "markdown",
   "metadata": {},
   "source": [
    "# <center> News Scrapper \n"
   ]
  },
  {
   "cell_type": "markdown",
   "metadata": {},
   "source": [
    "Our aim in this part is to scrape necessary data from various news websites and store them in a MongoDB dataset.<br>\n",
    "Our focous now is on : https://www.hespress.com/  \n",
    "                       https://almassaa.com/category"
   ]
  },
  {
   "cell_type": "markdown",
   "metadata": {},
   "source": [
    "data  :  "
   ]
  },
  {
   "cell_type": "code",
   "execution_count": null,
   "metadata": {
    "vscode": {
     "languageId": "plaintext"
    }
   },
   "outputs": [],
   "source": [
    "import requests \n",
    "from "
   ]
  }
 ],
 "metadata": {
  "language_info": {
   "name": "python"
  }
 },
 "nbformat": 4,
 "nbformat_minor": 2
}
